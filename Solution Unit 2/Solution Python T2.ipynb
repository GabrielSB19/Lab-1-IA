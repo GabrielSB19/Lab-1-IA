{
 "cells": [
  {
   "attachments": {},
   "cell_type": "markdown",
   "metadata": {},
   "source": [
    "# UNIDAD 2"
   ]
  },
  {
   "attachments": {},
   "cell_type": "markdown",
   "metadata": {},
   "source": [
    "**Ejercicio 13**"
   ]
  },
  {
   "attachments": {},
   "cell_type": "markdown",
   "metadata": {},
   "source": [
    "#### Algoritmo de para la lectura y reconocimiento de digitos (Identificación del numero 8)\n",
    "\n",
    "**Propuesta**:\n",
    "\n",
    "Antes de realizar la detección de dígitos, exploramos el conjunto de datos de entrada desde el api de **sklearn** con el fin de entender su comportamiento y estrucutura. Luego, importamos herramientas o librerías necesarias para la ejecución y cargamos el dataset de load digits. Ahora bien, nos basamos en un algoritmo basado en plantillas para detectar la presencia de un \"8\" en la imagen [No es tan eficaz pero con un conjunto de datos que tengan cierta estrucutura y posiciones de los numeros fijos podría arrojar buenos resultados :)]. \n",
    "\n",
    "**Procedimiento**:\n",
    "\n",
    "El algoritmo primero realiza una serie de operaciones de preprocesamiento para binarizar la imagen y luego la compara con una plantilla de \"8\" predefinida para encontrar similitudes. Cabe mencionar, que esta plantilla fue ajustada con base en los datos de prueba para aumentar la efectividad del algoritmo. Además colocamos un limite de similitud del 75 porciento en base a la plantilla para flexibilizar los errores que pueda contener la imagen o impresiciones. Finalmente, evaluamos el software porpuesto calculando el recall y timpo de ejecución del  mismo."
   ]
  },
  {
   "attachments": {},
   "cell_type": "markdown",
   "metadata": {},
   "source": [
    "**Ejercicio 14**"
   ]
  },
  {
   "cell_type": "code",
   "execution_count": 4,
   "metadata": {},
   "outputs": [
    {
     "data": {
      "text/plain": [
       "<matplotlib.image.AxesImage at 0x7fde089ee730>"
      ]
     },
     "execution_count": 4,
     "metadata": {},
     "output_type": "execute_result"
    },
    {
     "data": {
      "text/plain": [
       "<Figure size 640x480 with 0 Axes>"
      ]
     },
     "metadata": {},
     "output_type": "display_data"
    },
    {
     "data": {
      "image/png": "[encoded data removed]",
      "text/plain": [
       "<Figure size 480x480 with 1 Axes>"
      ]
     },
     "metadata": {},
     "output_type": "display_data"
    },
    {
     "data": {
      "image/png": "[encoded data removed]",
      "text/plain": [
       "<Figure size 480x480 with 1 Axes>"
      ]
     },
     "metadata": {},
     "output_type": "display_data"
    }
   ],
   "source": [
    "# Importando librerías necesarias para el producto\n",
    "import time\n",
    "from sklearn.datasets import load_digits\n",
    "import numpy as np\n",
    "import pylab as pl\n",
    "\n",
    "# Cargamos el dataset digits de sklearn\n",
    "digits = load_digits()\n",
    "\n",
    "# Inicio de tiempo para el algoritmo\n",
    "start_time = time.time()\n",
    "\n",
    "# Binarizar la imagen utilizando un umbral\n",
    "def preprocess_image(image):\n",
    "    # Encontramos el promedio de los elementos en el arreglo de la imagen especifica\n",
    "    threshold = np.mean(image)\n",
    "    # Obtenemos el arreglo 8 X 8 binario de la imagen que contiene los valores por encima de la media identificados como 1\n",
    "    return (image > threshold).astype('uint8')\n",
    "\n",
    "def compare_images(template,image):\n",
    "    # Definir limite de similitud para la detención\n",
    "    threshold = 18 # 75% de similitud entre la codificación binaria [18/24]\n",
    "    similarity = 0 # Varible acumuladora de similitud entre imagenes [Plantilla vs Imagen Pre-procesada]\n",
    "    # Recorrido entre matrices 8 X 8 y respectiva validación condicional\n",
    "    for i in range(8):\n",
    "        for j in range(8):\n",
    "            if template[i][j] == 1 and image[i][j] == 1:\n",
    "                similarity += 1\n",
    "    # Retorno condicional basado en umbral definido\n",
    "    if similarity >= threshold:\n",
    "        return True\n",
    "    else:\n",
    "        return False\n",
    "\n",
    "def detect_eight(image):\n",
    "    # Preprocesar la imagen\n",
    "    preprocessed_image = preprocess_image(image)\n",
    "\n",
    "    # Plantilla predefinida del número 8.\n",
    "    template = np.array([\n",
    "        [0, 0, 0, 1, 1, 0, 0, 0],\n",
    "        [0, 0, 1, 1, 1, 1, 0, 0],\n",
    "        [0, 0, 1, 1, 1, 1, 0, 0],\n",
    "        [0, 0, 0, 1, 1, 0, 0, 0],\n",
    "        [0, 0, 0, 1, 1, 0, 0, 0],\n",
    "        [0, 0, 1, 1, 1, 1, 0, 0],\n",
    "        [0, 0, 1, 1, 1, 1, 0, 0],\n",
    "        [0, 0, 0, 1, 1, 0, 0, 0]\n",
    "    ])\n",
    "\n",
    "    return compare_images(template, preprocessed_image)\n",
    "    \n",
    "# Contadores para calcular los resultados\n",
    "true_positives = 0\n",
    "false_negatives = 0\n",
    "\n",
    "# Iterar sobre todas las imágenes en el dataset digits\n",
    "for i in range(len(digits.images)):\n",
    "    image = digits.images[i]\n",
    "    target = digits.target[i]\n",
    "    # Utilizar el algoritmo de detección de 8 para la imagen\n",
    "    detected = detect_eight(image)  \n",
    "    # Si el número objetivo es 8 \"certeza\"\n",
    "    if target == 8:\n",
    "        if detected:\n",
    "            true_positives += 1\n",
    "        else:\n",
    "            false_negatives += 1\n",
    "    else:\n",
    "        if detected:\n",
    "            false_negatives += 1\n",
    "        else:\n",
    "            true_positives += 1\n",
    "\n",
    "\n",
    "\n",
    "# Fin de tiempo para el algoritmo\n",
    "end_time = time.time()\n",
    "\n",
    "# Utilizado para identificar de forma visual las imagenes objetivo (Forma o Estructura) [Debug Porpouses]\n",
    "pl.gray() # Queremos las imágenes en grises\n",
    "pl.matshow(digits.images[248]) \n",
    "pl.matshow(digits.images[249]) "
   ]
  },
  {
   "attachments": {},
   "cell_type": "markdown",
   "metadata": {},
   "source": [
    "**Ejercicios 15 y 16:**"
   ]
  },
  {
   "cell_type": "code",
   "execution_count": 5,
   "metadata": {},
   "outputs": [
    {
     "name": "stdout",
     "output_type": "stream",
     "text": [
      "Resultados:\n",
      "VP:  1179\n",
      "FN:  618\n",
      "Recall:  0.656093489148581\n",
      "Tiempo:  0.1894981861114502\n"
     ]
    }
   ],
   "source": [
    "# Calculamos las métricas de tiempo y recall\n",
    "recall = true_positives / (true_positives + false_negatives)\n",
    "time = end_time - start_time\n",
    "\n",
    "print(\"Resultados:\")\n",
    "print(\"VP: \", true_positives)\n",
    "print(\"FN: \", false_negatives)\n",
    "print(\"Recall: \", recall)\n",
    "print(\"Tiempo: \", time)"
   ]
  }
 ],
 "metadata": {
  "kernelspec": {
   "display_name": "Python 3",
   "language": "python",
   "name": "python3"
  },
  "language_info": {
   "codemirror_mode": {
    "name": "ipython",
    "version": 3
   },
   "file_extension": ".py",
   "mimetype": "text/x-python",
   "name": "python",
   "nbconvert_exporter": "python",
   "pygments_lexer": "ipython3",
   "version": "3.8.10"
  },
  "orig_nbformat": 4
 },
 "nbformat": 4,
 "nbformat_minor": 2
}
