{
 "cells": [
  {
   "attachments": {},
   "cell_type": "markdown",
   "metadata": {},
   "source": [
    "# UNIDAD 1"
   ]
  },
  {
   "attachments": {},
   "cell_type": "markdown",
   "metadata": {},
   "source": [
    "__Ejercicio 1__"
   ]
  },
  {
   "cell_type": "code",
   "execution_count": 1,
   "metadata": {},
   "outputs": [
    {
     "name": "stdout",
     "output_type": "stream",
     "text": [
      "hello world\n"
     ]
    }
   ],
   "source": [
    "print(\"hello world\")"
   ]
  },
  {
   "cell_type": "code",
   "execution_count": 2,
   "metadata": {},
   "outputs": [
    {
     "name": "stdout",
     "output_type": "stream",
     "text": [
      "0\n",
      "1\n",
      "2\n",
      "3\n",
      "4\n",
      "5\n",
      "6\n",
      "7\n",
      "8\n",
      "9\n"
     ]
    }
   ],
   "source": [
    "for i in range(10):\n",
    "    print(i)"
   ]
  },
  {
   "attachments": {},
   "cell_type": "markdown",
   "metadata": {},
   "source": [
    "__Ejercicio 2__\n",
    "\n",
    "El método range() es muy útil en Python porque permite generar una secuencia de números de manera eficiente. Por ejemplo, se puede usar para iterar sobre una lista, generar una serie de valores para graficar una función matemática, o para crear un bucle que se ejecute un número específico de veces.\n",
    "```python\n",
    "range([start], stop[, step])\n",
    "```\n",
    "\n",
    "    - Donde Start (Opcional) es el valor de inicio, si no se indicia empezara en 0\n",
    "    - Donde Stop (Obligatorio) es el valor de fin.\n",
    "    - Donde step (Opcional) es la frecuencia en la que saltara el rango, por defecto la frecuencía será 1\n"
   ]
  },
  {
   "attachments": {},
   "cell_type": "markdown",
   "metadata": {},
   "source": [
    "__Ejercicio 3__"
   ]
  },
  {
   "cell_type": "code",
   "execution_count": 45,
   "metadata": {},
   "outputs": [
    {
     "name": "stdout",
     "output_type": "stream",
     "text": [
      "5\n",
      "6\n",
      "7\n",
      "8\n"
     ]
    }
   ],
   "source": [
    "for i in range(5,9):\n",
    "    print(i)"
   ]
  },
  {
   "attachments": {},
   "cell_type": "markdown",
   "metadata": {},
   "source": [
    "__Ejercicio 4__\n",
    "```python\n",
    "import random \n",
    "lista = [[[7,5,3], [random.randint(10,20) for i in range(3)]]]\n",
    "print(lista)\n",
    "```"
   ]
  },
  {
   "cell_type": "code",
   "execution_count": 46,
   "metadata": {},
   "outputs": [
    {
     "data": {
      "text/plain": [
       "5"
      ]
     },
     "execution_count": 46,
     "metadata": {},
     "output_type": "execute_result"
    }
   ],
   "source": [
    "import random \n",
    "lista = [[[7,5,3], [random.randint(10,20) for i in range(3)]]]\n",
    "\n",
    "#Imprmir solo el elemento 5 de la lista.\n",
    "lista[0][0][1]"
   ]
  },
  {
   "attachments": {},
   "cell_type": "markdown",
   "metadata": {},
   "source": [
    "__Ejercicio 5__"
   ]
  },
  {
   "cell_type": "code",
   "execution_count": 47,
   "metadata": {},
   "outputs": [
    {
     "data": {
      "text/plain": [
       "[3, 5, 7]"
      ]
     },
     "execution_count": 47,
     "metadata": {},
     "output_type": "execute_result"
    }
   ],
   "source": [
    "lista[0][0][::-1]\n"
   ]
  },
  {
   "attachments": {},
   "cell_type": "markdown",
   "metadata": {},
   "source": [
    "__Ejercicio 6__\n",
    "Ejecute la siguientes lineas de código\n",
    "\n",
    "```python\n",
    " a = [ [2, 4, 6, 8 ], \n",
    "    [ 1, 3, 5, 7 ], \n",
    "    [ 8, 6, 4, 2 ], \n",
    "    [ 7, 5, 3, 1 ] ]\n",
    "\n",
    "for i in range(len(a)) : \n",
    "    for j in range(len(a[i])) : \n",
    "        print(a[i][j], end=\" \")\n",
    "    print()  \n",
    "```"
   ]
  },
  {
   "cell_type": "code",
   "execution_count": 48,
   "metadata": {},
   "outputs": [
    {
     "name": "stdout",
     "output_type": "stream",
     "text": [
      "1 2 3 \n",
      "5 10 15 \n",
      "3 6 9 \n"
     ]
    }
   ],
   "source": [
    "matriz = []\n",
    "for i in range(3):\n",
    "    fila=[]\n",
    "    for j in range(3):\n",
    "        if i == 0:\n",
    "            fila.append(j+1)\n",
    "        elif i == 1:\n",
    "            fila.append((j+1)*5)\n",
    "        elif i == 2:\n",
    "            fila.append((j+1)*3)\n",
    "    matriz.append(fila)\n",
    "\n",
    "for i in range(len(matriz)):\n",
    "    for j in range(len(matriz[i])):\n",
    "        print(matriz[i][j], end = \" \")\n",
    "    print()"
   ]
  },
  {
   "attachments": {},
   "cell_type": "markdown",
   "metadata": {},
   "source": [
    "__Ejercicio 7__"
   ]
  },
  {
   "cell_type": "code",
   "execution_count": 49,
   "metadata": {},
   "outputs": [
    {
     "data": {
      "text/plain": [
       "'hello IA'"
      ]
     },
     "execution_count": 49,
     "metadata": {},
     "output_type": "execute_result"
    }
   ],
   "source": [
    "variable = \"hello world\"\n",
    "variable = variable.replace(\"world\", \"IA\")\n",
    "variable"
   ]
  },
  {
   "attachments": {},
   "cell_type": "markdown",
   "metadata": {},
   "source": [
    "__Ejercicio 8__"
   ]
  },
  {
   "cell_type": "code",
   "execution_count": 50,
   "metadata": {},
   "outputs": [
    {
     "name": "stdout",
     "output_type": "stream",
     "text": [
      "1\n",
      "3\n",
      "5\n",
      "7\n",
      "9\n",
      "11\n",
      "13\n",
      "15\n",
      "17\n",
      "19\n"
     ]
    }
   ],
   "source": [
    "lista=[1,2,3,4,5,6,7,8,9,10,11,12,13,14,15,16,17,18,19,20]\n",
    "def impares(lista):\n",
    "    for i in range(len(lista)):\n",
    "        if lista[i]%2 != 0:\n",
    "            print(lista[i])\n",
    "impares(lista)"
   ]
  },
  {
   "attachments": {},
   "cell_type": "markdown",
   "metadata": {},
   "source": [
    "__Ejercicio 9__"
   ]
  },
  {
   "cell_type": "code",
   "execution_count": 5,
   "metadata": {},
   "outputs": [
    {
     "name": "stdout",
     "output_type": "stream",
     "text": [
      "[1, 32, 243, 1024, 3125, 7776, 16807, 32768, 59049, 100000]\n"
     ]
    }
   ],
   "source": [
    "from methods import exponente\n",
    "lista = [1,2,3,4,5,6,7,8,9,10]\n",
    "exp = 5\n",
    "result = exponente(lista, exp)\n",
    "print(result)"
   ]
  },
  {
   "attachments": {},
   "cell_type": "markdown",
   "metadata": {},
   "source": [
    "__Ejercicio 10__"
   ]
  },
  {
   "cell_type": "code",
   "execution_count": 4,
   "metadata": {},
   "outputs": [
    {
     "name": "stdout",
     "output_type": "stream",
     "text": [
      "30\n"
     ]
    }
   ],
   "source": [
    "from methods import *\n",
    "print(perimetroRectangulo(5, 10))"
   ]
  },
  {
   "attachments": {},
   "cell_type": "markdown",
   "metadata": {},
   "source": [
    "# UNIDAD 2"
   ]
  },
  {
   "attachments": {},
   "cell_type": "markdown",
   "metadata": {},
   "source": [
    "**Ejercicio 13**"
   ]
  },
  {
   "cell_type": "code",
   "execution_count": 6,
   "metadata": {},
   "outputs": [
    {
     "data": {
      "text/plain": [
       "'\\nPropuesta:\\n1. Preprocesamiento de imágenes: antes de realizar la detección de dígitos, se puede aplicar un preprocesamiento a las imágenes para mejorar la calidad y reducir el ruido. Esto puede incluir operaciones como suavizado de la imagen, aumento del contraste y binarización (convertir la imagen en blanco y negro).\\n'"
      ]
     },
     "execution_count": 6,
     "metadata": {},
     "output_type": "execute_result"
    }
   ],
   "source": [
    "# Algorotmo de para la lectura y reconocimiento de digitos (Especificamente el numero 8)\n",
    "\"\"\"\n",
    "Propuesta:\n",
    "1. Analisis de datos: Antes de realizar la detección de dígitos, exploraremos en conjunto de datos de entrada con el fin de\n",
    "entender su composición o estrucutura. Luego, mejoraremos la calidad y reduciremos el ruido utilizando tecnicas de suavizado\n",
    "de la imagen, aumento del contraste y binarización (convertir la imagen en blanco y negro).\n",
    "\"\"\"\n"
   ]
  },
  {
   "attachments": {},
   "cell_type": "markdown",
   "metadata": {},
   "source": [
    "**Ejercicio 14**"
   ]
  },
  {
   "cell_type": "code",
   "execution_count": 20,
   "metadata": {},
   "outputs": [
    {
     "ename": "error",
     "evalue": "OpenCV(4.7.0) /io/opencv/modules/imgproc/src/contours.cpp:195: error: (-210:Unsupported format or combination of formats) [Start]FindContours supports only CV_8UC1 images when mode != CV_RETR_FLOODFILL otherwise supports CV_32SC1 images only in function 'cvStartFindContours_Impl'\n",
     "output_type": "error",
     "traceback": [
      "\u001b[0;31m---------------------------------------------------------------------------\u001b[0m",
      "\u001b[0;31merror\u001b[0m                                     Traceback (most recent call last)",
      "Cell \u001b[0;32mIn[20], line 19\u001b[0m\n\u001b[1;32m     16\u001b[0m _, eight_thresh \u001b[39m=\u001b[39m cv2\u001b[39m.\u001b[39mthreshold(eight_gray, \u001b[39m7\u001b[39m, \u001b[39m255\u001b[39m, cv2\u001b[39m.\u001b[39mTHRESH_BINARY_INV)\n\u001b[1;32m     18\u001b[0m \u001b[39m# Encontrar los contornos en la imagen binaria\u001b[39;00m\n\u001b[0;32m---> 19\u001b[0m contours, _ \u001b[39m=\u001b[39m cv2\u001b[39m.\u001b[39;49mfindContours(eight_thresh, cv2\u001b[39m.\u001b[39;49mRETR_EXTERNAL, cv2\u001b[39m.\u001b[39;49mCHAIN_APPROX_SIMPLE)\n\u001b[1;32m     21\u001b[0m \u001b[39m# Dibujar los contornos en la imagen original\u001b[39;00m\n\u001b[1;32m     22\u001b[0m eight_detected \u001b[39m=\u001b[39m cv2\u001b[39m.\u001b[39mdrawContours(eight_img, contours, \u001b[39m-\u001b[39m\u001b[39m1\u001b[39m, (\u001b[39m0\u001b[39m, \u001b[39m255\u001b[39m, \u001b[39m0\u001b[39m), \u001b[39m2\u001b[39m)\n",
      "\u001b[0;31merror\u001b[0m: OpenCV(4.7.0) /io/opencv/modules/imgproc/src/contours.cpp:195: error: (-210:Unsupported format or combination of formats) [Start]FindContours supports only CV_8UC1 images when mode != CV_RETR_FLOODFILL otherwise supports CV_32SC1 images only in function 'cvStartFindContours_Impl'\n"
     ]
    }
   ],
   "source": [
    "# Importando librerías necesarias para el producto (Conjunto de datos de entrada)\n",
    "from sklearn.datasets import load_digits\n",
    "# import pylab as pl\n",
    "import numpy as np\n",
    "import cv2 # pip install opencv-python-headles\n",
    "# Cargar el conjunto de datos de dígitos\n",
    "digits = load_digits()\n",
    "\n",
    "# Obtener una imagen de muestra del número 8\n",
    "eight_idx = np.where(digits.target == 8)[0][0]\n",
    "eight_img = digits.images[eight_idx]\n",
    "\n",
    "# Convertir la imagen a escala de grises y aplicar umbralización\n",
    "eight_gray = eight_img.astype(np.uint8)\n",
    "eight_gray = cv2.cvtColor(eight_gray, cv2.COLOR_GRAY2BGR)\n",
    "_, eight_thresh = cv2.threshold(eight_gray, 7, 255, cv2.THRESH_BINARY_INV)\n",
    "\n",
    "# Encontrar los contornos en la imagen binaria\n",
    "contours, _ = cv2.findContours(eight_thresh, cv2.RETR_EXTERNAL, cv2.CHAIN_APPROX_SIMPLE)\n",
    "\n",
    "# Dibujar los contornos en la imagen original\n",
    "eight_detected = cv2.drawContours(eight_img, contours, -1, (0, 255, 0), 2)\n",
    "\n",
    "# Mostrar la imagen original y la imagen con los contornos detectados\n",
    "cv2.imshow(\"Original\", eight_img)\n",
    "cv2.imshow(\"Detected\", eight_detected)\n",
    "cv2.waitKey(0)\n",
    "cv2.destroyAllWindows()\n"
   ]
  }
 ],
 "metadata": {
  "kernelspec": {
   "display_name": "Python 3",
   "language": "python",
   "name": "python3"
  },
  "language_info": {
   "codemirror_mode": {
    "name": "ipython",
    "version": 3
   },
   "file_extension": ".py",
   "mimetype": "text/x-python",
   "name": "python",
   "nbconvert_exporter": "python",
   "pygments_lexer": "ipython3",
   "version": "3.8.10"
  },
  "orig_nbformat": 4,
  "vscode": {
   "interpreter": {
    "hash": "31f2aee4e71d21fbe5cf8b01ff0e069b9275f58929596ceb00d14d90e3e16cd6"
   }
  }
 },
 "nbformat": 4,
 "nbformat_minor": 2
}
