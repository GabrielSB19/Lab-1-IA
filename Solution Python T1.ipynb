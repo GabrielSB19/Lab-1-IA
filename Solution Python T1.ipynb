{
 "cells": [
  {
   "attachments": {},
   "cell_type": "markdown",
   "metadata": {},
   "source": [
    "__Ejercicio 1__"
   ]
  },
  {
   "cell_type": "code",
   "execution_count": 44,
   "metadata": {},
   "outputs": [
    {
     "name": "stdout",
     "output_type": "stream",
     "text": [
      "hello world\n",
      "0\n",
      "1\n",
      "2\n",
      "3\n",
      "4\n",
      "5\n",
      "6\n",
      "7\n",
      "8\n",
      "9\n"
     ]
    }
   ],
   "source": [
    "print(\"hello world\")\n",
    "for i in range(10):\n",
    "    print(i)"
   ]
  },
  {
   "attachments": {},
   "cell_type": "markdown",
   "metadata": {},
   "source": [
    "__Ejercicio 2__\n",
    "\n",
    "El método range() es muy útil en Python porque permite generar una secuencia de números de manera eficiente. Por ejemplo, se puede usar para iterar sobre una lista, generar una serie de valores para graficar una función matemática, o para crear un bucle que se ejecute un número específico de veces.\n",
    "```python\n",
    "range([start], stop[, step])\n",
    "```\n",
    "\n",
    "    - Donde Start (Opcional) es el valor de inicio, si no se indicia empezara en 0\n",
    "    - Donde Stop (Obligatorio) es el valor de fin.\n",
    "    - Donde step (Opcional) es la frecuencia en la que saltara el rango, por defecto la frecuencía será 1\n"
   ]
  },
  {
   "attachments": {},
   "cell_type": "markdown",
   "metadata": {},
   "source": [
    "__Ejercicio 3__"
   ]
  },
  {
   "cell_type": "code",
   "execution_count": 45,
   "metadata": {},
   "outputs": [
    {
     "name": "stdout",
     "output_type": "stream",
     "text": [
      "5\n",
      "6\n",
      "7\n",
      "8\n"
     ]
    }
   ],
   "source": [
    "for i in range(5,9):\n",
    "    print(i)"
   ]
  },
  {
   "attachments": {},
   "cell_type": "markdown",
   "metadata": {},
   "source": [
    "__Ejercicio 4__\n",
    "```python\n",
    "import random \n",
    "lista = [[[7,5,3], [random.randint(10,20) for i in range(3)]]]\n",
    "print(lista)\n",
    "```"
   ]
  },
  {
   "cell_type": "code",
   "execution_count": 46,
   "metadata": {},
   "outputs": [
    {
     "data": {
      "text/plain": [
       "5"
      ]
     },
     "execution_count": 46,
     "metadata": {},
     "output_type": "execute_result"
    }
   ],
   "source": [
    "import random \n",
    "lista = [[[7,5,3], [random.randint(10,20) for i in range(3)]]]\n",
    "\n",
    "#Imprmir solo el elemento 5 de la lista.\n",
    "lista[0][0][1]"
   ]
  },
  {
   "attachments": {},
   "cell_type": "markdown",
   "metadata": {},
   "source": [
    "__Ejercicio 5__"
   ]
  },
  {
   "cell_type": "code",
   "execution_count": 47,
   "metadata": {},
   "outputs": [
    {
     "data": {
      "text/plain": [
       "[3, 5, 7]"
      ]
     },
     "execution_count": 47,
     "metadata": {},
     "output_type": "execute_result"
    }
   ],
   "source": [
    "lista[0][0][::-1]\n"
   ]
  },
  {
   "attachments": {},
   "cell_type": "markdown",
   "metadata": {},
   "source": [
    "__Ejercicio 6__\n",
    "Ejecute la siguientes lineas de código\n",
    "\n",
    "```python\n",
    " a = [ [2, 4, 6, 8 ], \n",
    "    [ 1, 3, 5, 7 ], \n",
    "    [ 8, 6, 4, 2 ], \n",
    "    [ 7, 5, 3, 1 ] ]\n",
    "\n",
    "for i in range(len(a)) : \n",
    "    for j in range(len(a[i])) : \n",
    "        print(a[i][j], end=\" \")\n",
    "    print()  \n",
    "```"
   ]
  },
  {
   "cell_type": "code",
   "execution_count": 48,
   "metadata": {},
   "outputs": [
    {
     "name": "stdout",
     "output_type": "stream",
     "text": [
      "1 2 3 \n",
      "5 10 15 \n",
      "3 6 9 \n"
     ]
    }
   ],
   "source": [
    "matriz = []\n",
    "for i in range(3):\n",
    "    fila=[]\n",
    "    for j in range(3):\n",
    "        if i == 0:\n",
    "            fila.append(j+1)\n",
    "        elif i == 1:\n",
    "            fila.append((j+1)*5)\n",
    "        elif i == 2:\n",
    "            fila.append((j+1)*3)\n",
    "    matriz.append(fila)\n",
    "\n",
    "for i in range(len(matriz)):\n",
    "    for j in range(len(matriz[i])):\n",
    "        print(matriz[i][j], end = \" \")\n",
    "    print()"
   ]
  },
  {
   "attachments": {},
   "cell_type": "markdown",
   "metadata": {},
   "source": [
    "__Ejercicio 7__"
   ]
  },
  {
   "cell_type": "code",
   "execution_count": 49,
   "metadata": {},
   "outputs": [
    {
     "data": {
      "text/plain": [
       "'hello IA'"
      ]
     },
     "execution_count": 49,
     "metadata": {},
     "output_type": "execute_result"
    }
   ],
   "source": [
    "variable = \"hello world\"\n",
    "variable = variable.replace(\"world\", \"IA\")\n",
    "variable"
   ]
  },
  {
   "attachments": {},
   "cell_type": "markdown",
   "metadata": {},
   "source": [
    "__Ejercicio 8__"
   ]
  },
  {
   "cell_type": "code",
   "execution_count": 50,
   "metadata": {},
   "outputs": [
    {
     "name": "stdout",
     "output_type": "stream",
     "text": [
      "1\n",
      "3\n",
      "5\n",
      "7\n",
      "9\n",
      "11\n",
      "13\n",
      "15\n",
      "17\n",
      "19\n"
     ]
    }
   ],
   "source": [
    "lista=[1,2,3,4,5,6,7,8,9,10,11,12,13,14,15,16,17,18,19,20]\n",
    "def impares(lista):\n",
    "    for i in range(len(lista)):\n",
    "        if lista[i]%2 != 0:\n",
    "            print(lista[i])\n",
    "impares(lista)"
   ]
  },
  {
   "attachments": {},
   "cell_type": "markdown",
   "metadata": {},
   "source": [
    "__Ejercicio 9__"
   ]
  },
  {
   "cell_type": "code",
   "execution_count": 51,
   "metadata": {},
   "outputs": [
    {
     "name": "stdout",
     "output_type": "stream",
     "text": [
      "[1, 32, 243, 1024, 3125, 7776, 16807, 32768, 59049, 100000]\n"
     ]
    }
   ],
   "source": [
    "from methods import exponente\n",
    "lista = [1,2,3,4,5,6,7,8,9,10]\n",
    "exp = 5\n",
    "result = exponente(lista, exp)\n",
    "print(result)"
   ]
  },
  {
   "attachments": {},
   "cell_type": "markdown",
   "metadata": {},
   "source": [
    "__Ejercicio 10__"
   ]
  },
  {
   "cell_type": "code",
   "execution_count": 62,
   "metadata": {},
   "outputs": [
    {
     "ename": "NameError",
     "evalue": "name 'perimetroRectangulo' is not defined",
     "output_type": "error",
     "traceback": [
      "\u001b[1;31m---------------------------------------------------------------------------\u001b[0m",
      "\u001b[1;31mNameError\u001b[0m                                 Traceback (most recent call last)",
      "Cell \u001b[1;32mIn[62], line 2\u001b[0m\n\u001b[0;32m      1\u001b[0m \u001b[39mfrom\u001b[39;00m \u001b[39mmethods\u001b[39;00m \u001b[39mimport\u001b[39;00m \u001b[39m*\u001b[39m\n\u001b[1;32m----> 2\u001b[0m \u001b[39mprint\u001b[39m(perimetroRectangulo(\u001b[39m5\u001b[39m, \u001b[39m10\u001b[39m))\n",
      "\u001b[1;31mNameError\u001b[0m: name 'perimetroRectangulo' is not defined"
     ]
    }
   ],
   "source": [
    "from methods import *\n",
    "print(perimetroRectangulo(5, 10))"
   ]
  }
 ],
 "metadata": {
  "kernelspec": {
   "display_name": "Python 3",
   "language": "python",
   "name": "python3"
  },
  "language_info": {
   "codemirror_mode": {
    "name": "ipython",
    "version": 3
   },
   "file_extension": ".py",
   "mimetype": "text/x-python",
   "name": "python",
   "nbconvert_exporter": "python",
   "pygments_lexer": "ipython3",
   "version": "3.10.10"
  },
  "orig_nbformat": 4,
  "vscode": {
   "interpreter": {
    "hash": "024b0a616ca735840eb4a1b40ab0cbe627f53fcab895d1f15e60a39150095aad"
   }
  }
 },
 "nbformat": 4,
 "nbformat_minor": 2
}
