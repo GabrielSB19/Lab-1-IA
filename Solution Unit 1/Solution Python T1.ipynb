{
 "cells": [
  {
   "cell_type": "markdown",
   "metadata": {},
   "source": [
    "+ __Student 1:__ Gabriel Suarez Barón\n",
    "+ __Student 2:__ Alejandro Varela Franco\n",
    "+ __Student 3:__ Santiago Arévalo Valencia\n",
    "+ __Student 4:__ Samuel Hernández Cifuentes"
   ]
  },
  {
   "cell_type": "markdown",
   "metadata": {},
   "source": [
    "# UNIDAD 1"
   ]
  },
  {
   "attachments": {},
   "cell_type": "markdown",
   "metadata": {},
   "source": [
    "__Ejercicio 1__"
   ]
  },
  {
   "cell_type": "code",
   "execution_count": 1,
   "metadata": {
    "scrolled": true
   },
   "outputs": [
    {
     "name": "stdout",
     "output_type": "stream",
     "text": [
      "hello world\n",
      "0\n",
      "1\n",
      "2\n",
      "3\n",
      "4\n",
      "5\n",
      "6\n",
      "7\n",
      "8\n",
      "9\n"
     ]
    }
   ],
   "source": [
    "print(\"hello world\")\n",
    "for i in range(10):\n",
    "    print(i)"
   ]
  },
  {
   "cell_type": "markdown",
   "metadata": {},
   "source": [
    "__Ejercicio 2__\n",
    "\n",
    "El método range() es muy útil en Python porque permite generar una secuencia de números de manera eficiente. Por ejemplo, se puede usar para iterar sobre una lista, generar una serie de valores para graficar una función matemática, o para crear un bucle que se ejecute un número específico de veces.\n",
    "```python\n",
    "range([start], stop[, step])\n",
    "```\n",
    "\n",
    "    - Donde Start (Opcional) es el valor de inicio, si no se indicia empezara en 0\n",
    "    - Donde Stop (Obligatorio) es el valor de fin.\n",
    "    - Donde step (Opcional) es la frecuencia en la que saltara el rango, por defecto la frecuencía será 1\n"
   ]
  },
  {
   "cell_type": "markdown",
   "metadata": {},
   "source": [
    "__Ejercicio 3__"
   ]
  },
  {
   "cell_type": "code",
   "execution_count": 2,
   "metadata": {},
   "outputs": [
    {
     "name": "stdout",
     "output_type": "stream",
     "text": [
      "5\n",
      "6\n",
      "7\n",
      "8\n"
     ]
    }
   ],
   "source": [
    "for i in range(5,9):\n",
    "    print(i)"
   ]
  },
  {
   "cell_type": "markdown",
   "metadata": {},
   "source": [
    "__Ejercicio 4__\n",
    "```python\n",
    "import random \n",
    "lista = [[[7,5,3], [random.randint(10,20) for i in range(3)]]]\n",
    "print(lista)\n",
    "```"
   ]
  },
  {
   "cell_type": "code",
   "execution_count": 3,
   "metadata": {},
   "outputs": [
    {
     "name": "stdout",
     "output_type": "stream",
     "text": [
      "[[[7, 5, 3], [12, 10, 18]]]\n"
     ]
    },
    {
     "data": {
      "text/plain": [
       "5"
      ]
     },
     "execution_count": 3,
     "metadata": {},
     "output_type": "execute_result"
    }
   ],
   "source": [
    "import random \n",
    "lista = [[[7,5,3], [random.randint(10,20) for i in range(3)]]]\n",
    "print(lista)\n",
    "#Imprmir solo el elemento 5 de la lista.\n",
    "lista[0][0][1]"
   ]
  },
  {
   "cell_type": "markdown",
   "metadata": {},
   "source": [
    "__Ejercicio 5__"
   ]
  },
  {
   "cell_type": "code",
   "execution_count": 4,
   "metadata": {},
   "outputs": [
    {
     "data": {
      "text/plain": [
       "[7, 5, 3]"
      ]
     },
     "execution_count": 4,
     "metadata": {},
     "output_type": "execute_result"
    }
   ],
   "source": [
    "lista[0][0][::-1]\n",
    "lista[0][0]\n",
    "\n",
    "#Con reverse()\n",
    "#lista[0][0].reverse()\n",
    "#lista[0][0]"
   ]
  },
  {
   "attachments": {},
   "cell_type": "markdown",
   "metadata": {},
   "source": [
    "__Ejercicio 6__\n",
    "\n",
    "```python\n",
    " a = [ [2, 4, 6, 8 ], \n",
    "    [ 1, 3, 5, 7 ], \n",
    "    [ 8, 6, 4, 2 ], \n",
    "    [ 7, 5, 3, 1 ] ]\n",
    "\n",
    "for i in range(len(a)) : \n",
    "    for j in range(len(a[i])) : \n",
    "        print(a[i][j], end=\" \")\n",
    "    print()  \n",
    "```"
   ]
  },
  {
   "cell_type": "code",
   "execution_count": 5,
   "metadata": {},
   "outputs": [
    {
     "name": "stdout",
     "output_type": "stream",
     "text": [
      "1 2 3 \n",
      "5 10 15 \n",
      "3 6 9 \n"
     ]
    }
   ],
   "source": [
    "matriz = []\n",
    "for i in range(3):\n",
    "    fila=[]\n",
    "    for j in range(3):\n",
    "        if i == 0:\n",
    "            fila.append(j+1)\n",
    "        elif i == 1:\n",
    "            fila.append((j+1)*5)\n",
    "        elif i == 2:\n",
    "            fila.append((j+1)*3)\n",
    "    matriz.append(fila)\n",
    "\n",
    "for i in range(len(matriz)):\n",
    "    for j in range(len(matriz[i])):\n",
    "        print(matriz[i][j], end = \" \")\n",
    "    print()"
   ]
  },
  {
   "cell_type": "markdown",
   "metadata": {},
   "source": [
    "__Ejercicio 7__"
   ]
  },
  {
   "cell_type": "code",
   "execution_count": 6,
   "metadata": {},
   "outputs": [
    {
     "data": {
      "text/plain": [
       "'hello IA'"
      ]
     },
     "execution_count": 6,
     "metadata": {},
     "output_type": "execute_result"
    }
   ],
   "source": [
    "variable = \"hello world\"\n",
    "variable = variable.replace(\"world\", \"IA\")\n",
    "variable"
   ]
  },
  {
   "cell_type": "markdown",
   "metadata": {},
   "source": [
    "__Ejercicio 8__"
   ]
  },
  {
   "cell_type": "code",
   "execution_count": 7,
   "metadata": {},
   "outputs": [
    {
     "name": "stdout",
     "output_type": "stream",
     "text": [
      "1\n",
      "3\n",
      "5\n",
      "7\n",
      "9\n",
      "11\n",
      "13\n",
      "15\n",
      "17\n",
      "19\n"
     ]
    }
   ],
   "source": [
    "lista=[1,2,3,4,5,6,7,8,9,10,11,12,13,14,15,16,17,18,19,20]\n",
    "def impares(lista):\n",
    "    for i in range(len(lista)):\n",
    "        if lista[i]%2 != 0:\n",
    "            print(lista[i])\n",
    "impares(lista)"
   ]
  },
  {
   "cell_type": "markdown",
   "metadata": {},
   "source": [
    "__Ejercicio 9__"
   ]
  },
  {
   "cell_type": "code",
   "execution_count": 8,
   "metadata": {},
   "outputs": [
    {
     "name": "stdout",
     "output_type": "stream",
     "text": [
      "[1, 32, 243, 1024, 3125, 7776, 16807, 32768, 59049, 100000]\n"
     ]
    }
   ],
   "source": [
    "from methods import exponente\n",
    "lista = [1,2,3,4,5,6,7,8,9,10]\n",
    "exp = 5\n",
    "result = exponente(lista, exp)\n",
    "print(result)"
   ]
  },
  {
   "cell_type": "markdown",
   "metadata": {},
   "source": [
    "__Ejercicio 10__"
   ]
  },
  {
   "cell_type": "code",
   "execution_count": 9,
   "metadata": {},
   "outputs": [
    {
     "name": "stdout",
     "output_type": "stream",
     "text": [
      "El perímetro del rectángulo es:  20.0\n"
     ]
    }
   ],
   "source": [
    "x = float(input(\"Ancho del rectángulo: \"))\n",
    "y = float(input(\"Largo del rectángulo: \"))\n",
    "\n",
    "def perimeter(x,y):\n",
    "    return (2 * (x + y))\n",
    "    \n",
    "print(\"El perímetro del rectángulo es: \", perimeter(x,y))\n",
    "\n",
    "#Usando el módulo methods\n",
    "#import methods as m\n",
    "#print(m.perimetroRectangulo(5, 10))"
   ]
  },
  {
   "attachments": {},
   "cell_type": "markdown",
   "metadata": {},
   "source": [
    "__Ejercicio 11__"
   ]
  },
  {
   "cell_type": "code",
   "execution_count": 10,
   "metadata": {},
   "outputs": [],
   "source": [
    "class Person:\n",
    "    from math import sqrt\n",
    "    \n",
    "    def __init__(self, name : str, height : float, weight : float):\n",
    "        self.name = name\n",
    "        self.height = height\n",
    "        self.weight = weight\n",
    "    \n",
    "    def BMI(self) -> float:\n",
    "        return self.height / self.sqrt(self.height)"
   ]
  },
  {
   "cell_type": "code",
   "execution_count": 11,
   "metadata": {},
   "outputs": [
    {
     "name": "stdout",
     "output_type": "stream",
     "text": [
      "1.3114877048604001\n",
      "1.3114877048604001\n",
      "1.349073756323204\n",
      "1.2961481396815722\n",
      "1.2999999999999998\n"
     ]
    }
   ],
   "source": [
    "people = [\n",
    "    Person(\"Samuel\", 1.72, 62.3),\n",
    "    Person(\"Santiago\", 1.72, 63),\n",
    "    Person(\"Gabriel\", 1.82, 72.3),\n",
    "    Person(\"Alejandro\", 1.68, 60),\n",
    "    Person(\"Kennet\", 1.69, 68.4),\n",
    "]\n",
    "\n",
    "for person in people:\n",
    "    print(person.BMI())"
   ]
  },
  {
   "attachments": {},
   "cell_type": "markdown",
   "metadata": {},
   "source": [
    "__Ejercicio 12__"
   ]
  },
  {
   "cell_type": "code",
   "execution_count": 12,
   "metadata": {},
   "outputs": [],
   "source": [
    "def WhizBang():\n",
    "    for i in range(1, 101):\n",
    "        word = \"\"\n",
    "        if i % 2 == 0:\n",
    "            word += \"whiz\"\n",
    "        if i % 3 == 0:\n",
    "            word += \"bang\"\n",
    "        print(str(i) if len(word) == 0 else word)"
   ]
  },
  {
   "cell_type": "code",
   "execution_count": 13,
   "metadata": {},
   "outputs": [
    {
     "name": "stdout",
     "output_type": "stream",
     "text": [
      "1\n",
      "whiz\n",
      "bang\n",
      "whiz\n",
      "5\n",
      "whizbang\n",
      "7\n",
      "whiz\n",
      "bang\n",
      "whiz\n",
      "11\n",
      "whizbang\n",
      "13\n",
      "whiz\n",
      "bang\n",
      "whiz\n",
      "17\n",
      "whizbang\n",
      "19\n",
      "whiz\n",
      "bang\n",
      "whiz\n",
      "23\n",
      "whizbang\n",
      "25\n",
      "whiz\n",
      "bang\n",
      "whiz\n",
      "29\n",
      "whizbang\n",
      "31\n",
      "whiz\n",
      "bang\n",
      "whiz\n",
      "35\n",
      "whizbang\n",
      "37\n",
      "whiz\n",
      "bang\n",
      "whiz\n",
      "41\n",
      "whizbang\n",
      "43\n",
      "whiz\n",
      "bang\n",
      "whiz\n",
      "47\n",
      "whizbang\n",
      "49\n",
      "whiz\n",
      "bang\n",
      "whiz\n",
      "53\n",
      "whizbang\n",
      "55\n",
      "whiz\n",
      "bang\n",
      "whiz\n",
      "59\n",
      "whizbang\n",
      "61\n",
      "whiz\n",
      "bang\n",
      "whiz\n",
      "65\n",
      "whizbang\n",
      "67\n",
      "whiz\n",
      "bang\n",
      "whiz\n",
      "71\n",
      "whizbang\n",
      "73\n",
      "whiz\n",
      "bang\n",
      "whiz\n",
      "77\n",
      "whizbang\n",
      "79\n",
      "whiz\n",
      "bang\n",
      "whiz\n",
      "83\n",
      "whizbang\n",
      "85\n",
      "whiz\n",
      "bang\n",
      "whiz\n",
      "89\n",
      "whizbang\n",
      "91\n",
      "whiz\n",
      "bang\n",
      "whiz\n",
      "95\n",
      "whizbang\n",
      "97\n",
      "whiz\n",
      "bang\n",
      "whiz\n"
     ]
    }
   ],
   "source": [
    "WhizBang()"
   ]
  }
 ],
 "metadata": {
  "kernelspec": {
   "display_name": "Python 3 (ipykernel)",
   "language": "python",
   "name": "python3"
  },
  "language_info": {
   "codemirror_mode": {
    "name": "ipython",
    "version": 3
   },
   "file_extension": ".py",
   "mimetype": "text/x-python",
   "name": "python",
   "nbconvert_exporter": "python",
   "pygments_lexer": "ipython3",
   "version": "3.10.10"
  },
  "vscode": {
   "interpreter": {
    "hash": "31f2aee4e71d21fbe5cf8b01ff0e069b9275f58929596ceb00d14d90e3e16cd6"
   }
  }
 },
 "nbformat": 4,
 "nbformat_minor": 2
}
