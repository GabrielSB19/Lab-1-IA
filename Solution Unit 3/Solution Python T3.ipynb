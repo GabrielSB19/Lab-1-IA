{
 "cells": [
  {
   "attachments": {},
   "cell_type": "markdown",
   "metadata": {},
   "source": [
    "# UNIDAD 2"
   ]
  },
  {
   "attachments": {},
   "cell_type": "markdown",
   "metadata": {},
   "source": [
    "**Ejercicio 17**"
   ]
  },
  {
   "attachments": {},
   "cell_type": "markdown",
   "metadata": {},
   "source": [
    "$$Ro = \\begin{bmatrix} cos \\theta & -sin \\theta \\\\ sin \\theta & cos \\theta \\end{bmatrix}$$\n",
    "$$x = \\begin{bmatrix} 2 \\\\  2 \\end{bmatrix}$$\n",
    "\n",
    "Aplique la siguiente operación con Numpy\n",
    " $$y = x \\cdot Ro$$"
   ]
  },
  {
   "cell_type": "code",
   "execution_count": 17,
   "metadata": {},
   "outputs": [
    {
     "name": "stdout",
     "output_type": "stream",
     "text": [
      "[[ 1.62231915 -2.31691186]]\n"
     ]
    }
   ],
   "source": [
    "import numpy as np\n",
    "\n",
    "# Definimos la matriz de rotación Ro y el vector x\n",
    "theta = np.radians(100) # Ángulo de rotación en radianes\n",
    "Ro = np.array([[np.cos(theta), -np.sin(theta)], [np.sin(theta), np.cos(theta)]])\n",
    "x = np.array([[2], [2]])\n",
    "\n",
    "# Realizamos la multiplicación de matriz-vector\n",
    "resultado = x.T.dot(Ro)\n",
    "\n",
    "# Imprimimos el resultado\n",
    "print(resultado)\n",
    "\n"
   ]
  },
  {
   "attachments": {},
   "cell_type": "markdown",
   "metadata": {},
   "source": [
    "**Ejercicio 18**"
   ]
  },
  {
   "cell_type": "code",
   "execution_count": null,
   "metadata": {},
   "outputs": [],
   "source": [
    "import pickle\n",
    "\n",
    "word_embeddings = pickle.load(open(\"../Problems/resources/word_embeddings_subset.p\", \"rb\"))\n",
    "len(word_embeddings)"
   ]
  },
  {
   "cell_type": "code",
   "execution_count": 23,
   "metadata": {},
   "outputs": [
    {
     "name": "stdout",
     "output_type": "stream",
     "text": [
      "dimension: 300\n"
     ]
    }
   ],
   "source": [
    "print(\"dimension: {}\".format(word_embeddings['Spain'].shape[0])) # cada palabra cuenta con una dimensión de 300 valores"
   ]
  },
  {
   "cell_type": "code",
   "execution_count": 35,
   "metadata": {},
   "outputs": [
    {
     "name": "stdout",
     "output_type": "stream",
     "text": [
      "[[0.6510957]]\n",
      "0.65109557\n"
     ]
    }
   ],
   "source": [
    "from sklearn.metrics.pairwise import cosine_similarity\n",
    "import numpy as np\n",
    "\n",
    "# Definimos las palabras que deseamos buscar para calcular la similitud entre ellas\n",
    "queen = word_embeddings['queen']\n",
    "king = word_embeddings['king']\n",
    "\n",
    "# Calculamos la similitud coseno entre las palabras utilizando la libreria sklearn\n",
    "similitud_cos = cosine_similarity(queen.reshape(1,-1), king.reshape(1,-1))\n",
    "\n",
    "print(similitud_cos)\n",
    "\n",
    "# Calculamos la similitud coseno entre las palabras utilizando la libreria numpy y la fórmula\n",
    "numerator = np.dot(queen, king)\n",
    "denominator = np.sqrt(np.sum(queen**2)) * np.sqrt(np.sum(king**2))\n",
    "similarity = numerator / denominator\n",
    "print(similarity)"
   ]
  },
  {
   "attachments": {},
   "cell_type": "markdown",
   "metadata": {},
   "source": [
    "**Similitud**\n",
    "\n",
    "- La similitud del coseno es una medida de la similitud entre dos vectores que varía entre 0 y 1. Un resultado de 0 indica que los vectores son completamente diferentes, mientras que un resultado de 1 indica que los vectores son idénticos.\n",
    "\n",
    "- En el contexto de la similitud entre palabras, un resultado de similitud del coseno de 0 significa que las dos palabras no tienen similitud alguna. Por otro lado, un resultado de 1 indica que las dos palabras son idénticas en términos de significado.\n",
    "\n",
    "- Una vez aclarado esto, podemos observar que el resultado de similiritud fue igual a 0.6510, por lo que se puede decir que existe una leve similiritud entre las palabras keen y queen, dado que, su resultado no es muy cercano a 1"
   ]
  }
 ],
 "metadata": {
  "kernelspec": {
   "display_name": "Python 3",
   "language": "python",
   "name": "python3"
  },
  "language_info": {
   "codemirror_mode": {
    "name": "ipython",
    "version": 3
   },
   "file_extension": ".py",
   "mimetype": "text/x-python",
   "name": "python",
   "nbconvert_exporter": "python",
   "pygments_lexer": "ipython3",
   "version": "3.10.10"
  },
  "orig_nbformat": 4
 },
 "nbformat": 4,
 "nbformat_minor": 2
}
