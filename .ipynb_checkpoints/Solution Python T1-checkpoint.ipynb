{
 "cells": [
  {
   "cell_type": "markdown",
   "metadata": {},
   "source": [
    "+ __Student 1:__ Gabriel Suarez Barón\n",
    "+ __Student 2:__ Alejandro Varela Franco\n",
    "+ __Student 3:__ Santiago Arévalo Valencia\n",
    "+ __Student 4:__ Samuel Hernández Cifuentes"
   ]
  },
  {
   "cell_type": "markdown",
   "metadata": {},
   "source": [
    "__Ejercicio 1__"
   ]
  },
  {
   "cell_type": "code",
   "execution_count": 44,
   "metadata": {
    "scrolled": true
   },
   "outputs": [
    {
     "name": "stdout",
     "output_type": "stream",
     "text": [
      "hello world\n",
      "0\n",
      "1\n",
      "2\n",
      "3\n",
      "4\n",
      "5\n",
      "6\n",
      "7\n",
      "8\n",
      "9\n"
     ]
    }
   ],
   "source": [
    "print(\"hello world\")\n",
    "for i in range(10):\n",
    "    print(i)"
   ]
  },
  {
   "cell_type": "markdown",
   "metadata": {},
   "source": [
    "__Ejercicio 2__\n",
    "\n",
    "El método range() es muy útil en Python porque permite generar una secuencia de números de manera eficiente. Por ejemplo, se puede usar para iterar sobre una lista, generar una serie de valores para graficar una función matemática, o para crear un bucle que se ejecute un número específico de veces.\n",
    "```python\n",
    "range([start], stop[, step])\n",
    "```\n",
    "\n",
    "    - Donde Start (Opcional) es el valor de inicio, si no se indicia empezara en 0\n",
    "    - Donde Stop (Obligatorio) es el valor de fin.\n",
    "    - Donde step (Opcional) es la frecuencia en la que saltara el rango, por defecto la frecuencía será 1\n"
   ]
  },
  {
   "cell_type": "markdown",
   "metadata": {},
   "source": [
    "__Ejercicio 3__"
   ]
  },
  {
   "cell_type": "code",
   "execution_count": 45,
   "metadata": {},
   "outputs": [
    {
     "name": "stdout",
     "output_type": "stream",
     "text": [
      "5\n",
      "6\n",
      "7\n",
      "8\n"
     ]
    }
   ],
   "source": [
    "for i in range(5,9):\n",
    "    print(i)"
   ]
  },
  {
   "cell_type": "markdown",
   "metadata": {},
   "source": [
    "__Ejercicio 4__\n",
    "```python\n",
    "import random \n",
    "lista = [[[7,5,3], [random.randint(10,20) for i in range(3)]]]\n",
    "print(lista)\n",
    "```"
   ]
  },
  {
   "cell_type": "code",
   "execution_count": 10,
   "metadata": {},
   "outputs": [
    {
     "name": "stdout",
     "output_type": "stream",
     "text": [
      "[[[7, 5, 3], [20, 17, 17]]]\n"
     ]
    },
    {
     "data": {
      "text/plain": [
       "5"
      ]
     },
     "execution_count": 10,
     "metadata": {},
     "output_type": "execute_result"
    }
   ],
   "source": [
    "import random \n",
    "lista = [[[7,5,3], [random.randint(10,20) for i in range(3)]]]\n",
    "print(lista)\n",
    "#Imprmir solo el elemento 5 de la lista.\n",
    "lista[0][0][1]"
   ]
  },
  {
   "cell_type": "markdown",
   "metadata": {},
   "source": [
    "__Ejercicio 5__"
   ]
  },
  {
   "cell_type": "code",
   "execution_count": 29,
   "metadata": {},
   "outputs": [
    {
     "data": {
      "text/plain": [
       "[3, 5, 7]"
      ]
     },
     "execution_count": 29,
     "metadata": {},
     "output_type": "execute_result"
    }
   ],
   "source": [
    "lista[0][0][::-1]\n",
    "lista[0][0]\n",
    "\n",
    "#Con reverse()\n",
    "#lista[0][0].reverse()\n",
    "#lista[0][0]"
   ]
  },
  {
   "cell_type": "markdown",
   "metadata": {},
   "source": [
    "__Ejercicio 6__\n",
    "Ejecute la siguientes lineas de código\n",
    "\n",
    "```python\n",
    " a = [ [2, 4, 6, 8 ], \n",
    "    [ 1, 3, 5, 7 ], \n",
    "    [ 8, 6, 4, 2 ], \n",
    "    [ 7, 5, 3, 1 ] ]\n",
    "\n",
    "for i in range(len(a)) : \n",
    "    for j in range(len(a[i])) : \n",
    "        print(a[i][j], end=\" \")\n",
    "    print()  \n",
    "```"
   ]
  },
  {
   "cell_type": "code",
   "execution_count": 48,
   "metadata": {},
   "outputs": [
    {
     "name": "stdout",
     "output_type": "stream",
     "text": [
      "1 2 3 \n",
      "5 10 15 \n",
      "3 6 9 \n"
     ]
    }
   ],
   "source": [
    "matriz = []\n",
    "for i in range(3):\n",
    "    fila=[]\n",
    "    for j in range(3):\n",
    "        if i == 0:\n",
    "            fila.append(j+1)\n",
    "        elif i == 1:\n",
    "            fila.append((j+1)*5)\n",
    "        elif i == 2:\n",
    "            fila.append((j+1)*3)\n",
    "    matriz.append(fila)\n",
    "\n",
    "for i in range(len(matriz)):\n",
    "    for j in range(len(matriz[i])):\n",
    "        print(matriz[i][j], end = \" \")\n",
    "    print()"
   ]
  },
  {
   "cell_type": "markdown",
   "metadata": {},
   "source": [
    "__Ejercicio 7__"
   ]
  },
  {
   "cell_type": "code",
   "execution_count": 49,
   "metadata": {},
   "outputs": [
    {
     "data": {
      "text/plain": [
       "'hello IA'"
      ]
     },
     "execution_count": 49,
     "metadata": {},
     "output_type": "execute_result"
    }
   ],
   "source": [
    "variable = \"hello world\"\n",
    "variable = variable.replace(\"world\", \"IA\")\n",
    "variable"
   ]
  },
  {
   "cell_type": "markdown",
   "metadata": {},
   "source": [
    "__Ejercicio 8__"
   ]
  },
  {
   "cell_type": "code",
   "execution_count": 50,
   "metadata": {},
   "outputs": [
    {
     "name": "stdout",
     "output_type": "stream",
     "text": [
      "1\n",
      "3\n",
      "5\n",
      "7\n",
      "9\n",
      "11\n",
      "13\n",
      "15\n",
      "17\n",
      "19\n"
     ]
    }
   ],
   "source": [
    "lista=[1,2,3,4,5,6,7,8,9,10,11,12,13,14,15,16,17,18,19,20]\n",
    "def impares(lista):\n",
    "    for i in range(len(lista)):\n",
    "        if lista[i]%2 != 0:\n",
    "            print(lista[i])\n",
    "impares(lista)"
   ]
  },
  {
   "cell_type": "markdown",
   "metadata": {},
   "source": [
    "__Ejercicio 9__"
   ]
  },
  {
   "cell_type": "code",
   "execution_count": 51,
   "metadata": {},
   "outputs": [
    {
     "name": "stdout",
     "output_type": "stream",
     "text": [
      "[1, 32, 243, 1024, 3125, 7776, 16807, 32768, 59049, 100000]\n"
     ]
    }
   ],
   "source": [
    "from methods import exponente\n",
    "lista = [1,2,3,4,5,6,7,8,9,10]\n",
    "exp = 5\n",
    "result = exponente(lista, exp)\n",
    "print(result)"
   ]
  },
  {
   "cell_type": "markdown",
   "metadata": {},
   "source": [
    "__Ejercicio 10__"
   ]
  },
  {
   "cell_type": "code",
   "execution_count": 36,
   "metadata": {},
   "outputs": [
    {
     "name": "stdout",
     "output_type": "stream",
     "text": [
      "Ancho del rectángulo: 5.6\n",
      "Largo del rectángulo: 8.7\n",
      "El perímetro del rectángulo es:  28.599999999999998\n"
     ]
    }
   ],
   "source": [
    "x = float(input(\"Ancho del rectángulo: \"))\n",
    "y = float(input(\"Largo del rectángulo: \"))\n",
    "\n",
    "def perimeter(x,y):\n",
    "    return (2 * (x + y))\n",
    "    \n",
    "print(\"El perímetro del rectángulo es: \", perimeter(x,y))"
   ]
  }
 ],
 "metadata": {
  "kernelspec": {
   "display_name": "Python 3 (ipykernel)",
   "language": "python",
   "name": "python3"
  },
  "language_info": {
   "codemirror_mode": {
    "name": "ipython",
    "version": 3
   },
   "file_extension": ".py",
   "mimetype": "text/x-python",
   "name": "python",
   "nbconvert_exporter": "python",
   "pygments_lexer": "ipython3",
   "version": "3.9.13"
  },
  "vscode": {
   "interpreter": {
    "hash": "024b0a616ca735840eb4a1b40ab0cbe627f53fcab895d1f15e60a39150095aad"
   }
  }
 },
 "nbformat": 4,
 "nbformat_minor": 2
}
